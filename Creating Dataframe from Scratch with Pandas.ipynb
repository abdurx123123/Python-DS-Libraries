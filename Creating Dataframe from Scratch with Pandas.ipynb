{
 "cells": [
  {
   "cell_type": "code",
   "execution_count": 1,
   "id": "ca746225",
   "metadata": {},
   "outputs": [],
   "source": [
    "import pandas as pd"
   ]
  },
  {
   "cell_type": "code",
   "execution_count": 2,
   "id": "913f653a",
   "metadata": {},
   "outputs": [],
   "source": [
    "player = ['a','b','c','d','e']"
   ]
  },
  {
   "cell_type": "code",
   "execution_count": 3,
   "id": "4d25609c",
   "metadata": {},
   "outputs": [],
   "source": [
    "nationality = ['p','q','r','s','t']"
   ]
  },
  {
   "cell_type": "code",
   "execution_count": 4,
   "id": "9151010a",
   "metadata": {},
   "outputs": [],
   "source": [
    "club = ['z','y','x','w','v']"
   ]
  },
  {
   "cell_type": "code",
   "execution_count": 5,
   "id": "02202b1b",
   "metadata": {},
   "outputs": [],
   "source": [
    "world_champion = [True,False,True,False,True]"
   ]
  },
  {
   "cell_type": "code",
   "execution_count": 6,
   "id": "c51f8ae5",
   "metadata": {},
   "outputs": [],
   "source": [
    "height = [1.2,1.3,1.4,1.5,1]"
   ]
  },
  {
   "cell_type": "code",
   "execution_count": 7,
   "id": "e7498ba7",
   "metadata": {},
   "outputs": [],
   "source": [
    "goals = [122,99,123,334,222]"
   ]
  },
  {
   "cell_type": "code",
   "execution_count": 8,
   "id": "9455448d",
   "metadata": {},
   "outputs": [],
   "source": [
    "dic = {'Player':player,'Country':nationality,'Club':club,'Champion':world_champion,'Height':height,'Goals':goals}"
   ]
  },
  {
   "cell_type": "code",
   "execution_count": 9,
   "id": "98b5d64a",
   "metadata": {},
   "outputs": [
    {
     "data": {
      "text/plain": [
       "{'Player': ['a', 'b', 'c', 'd', 'e'],\n",
       " 'Country': ['p', 'q', 'r', 's', 't'],\n",
       " 'Club': ['z', 'y', 'x', 'w', 'v'],\n",
       " 'Champion': [True, False, True, False, True],\n",
       " 'Height': [1.2, 1.3, 1.4, 1.5, 1],\n",
       " 'Goals': [122, 99, 123, 334, 222]}"
      ]
     },
     "execution_count": 9,
     "metadata": {},
     "output_type": "execute_result"
    }
   ],
   "source": [
    "dic"
   ]
  },
  {
   "cell_type": "code",
   "execution_count": 12,
   "id": "ea7ee68c",
   "metadata": {},
   "outputs": [],
   "source": [
    "df = pd.DataFrame(data = dic)"
   ]
  },
  {
   "cell_type": "code",
   "execution_count": 13,
   "id": "77f655db",
   "metadata": {},
   "outputs": [
    {
     "data": {
      "text/html": [
       "<div>\n",
       "<style scoped>\n",
       "    .dataframe tbody tr th:only-of-type {\n",
       "        vertical-align: middle;\n",
       "    }\n",
       "\n",
       "    .dataframe tbody tr th {\n",
       "        vertical-align: top;\n",
       "    }\n",
       "\n",
       "    .dataframe thead th {\n",
       "        text-align: right;\n",
       "    }\n",
       "</style>\n",
       "<table border=\"1\" class=\"dataframe\">\n",
       "  <thead>\n",
       "    <tr style=\"text-align: right;\">\n",
       "      <th></th>\n",
       "      <th>Player</th>\n",
       "      <th>Country</th>\n",
       "      <th>Club</th>\n",
       "      <th>Champion</th>\n",
       "      <th>Height</th>\n",
       "      <th>Goals</th>\n",
       "    </tr>\n",
       "  </thead>\n",
       "  <tbody>\n",
       "    <tr>\n",
       "      <th>0</th>\n",
       "      <td>a</td>\n",
       "      <td>p</td>\n",
       "      <td>z</td>\n",
       "      <td>True</td>\n",
       "      <td>1.2</td>\n",
       "      <td>122</td>\n",
       "    </tr>\n",
       "    <tr>\n",
       "      <th>1</th>\n",
       "      <td>b</td>\n",
       "      <td>q</td>\n",
       "      <td>y</td>\n",
       "      <td>False</td>\n",
       "      <td>1.3</td>\n",
       "      <td>99</td>\n",
       "    </tr>\n",
       "    <tr>\n",
       "      <th>2</th>\n",
       "      <td>c</td>\n",
       "      <td>r</td>\n",
       "      <td>x</td>\n",
       "      <td>True</td>\n",
       "      <td>1.4</td>\n",
       "      <td>123</td>\n",
       "    </tr>\n",
       "    <tr>\n",
       "      <th>3</th>\n",
       "      <td>d</td>\n",
       "      <td>s</td>\n",
       "      <td>w</td>\n",
       "      <td>False</td>\n",
       "      <td>1.5</td>\n",
       "      <td>334</td>\n",
       "    </tr>\n",
       "    <tr>\n",
       "      <th>4</th>\n",
       "      <td>e</td>\n",
       "      <td>t</td>\n",
       "      <td>v</td>\n",
       "      <td>True</td>\n",
       "      <td>1.0</td>\n",
       "      <td>222</td>\n",
       "    </tr>\n",
       "  </tbody>\n",
       "</table>\n",
       "</div>"
      ],
      "text/plain": [
       "  Player Country Club  Champion  Height  Goals\n",
       "0      a       p    z      True     1.2    122\n",
       "1      b       q    y     False     1.3     99\n",
       "2      c       r    x      True     1.4    123\n",
       "3      d       s    w     False     1.5    334\n",
       "4      e       t    v      True     1.0    222"
      ]
     },
     "execution_count": 13,
     "metadata": {},
     "output_type": "execute_result"
    }
   ],
   "source": [
    "df"
   ]
  },
  {
   "cell_type": "code",
   "execution_count": 16,
   "id": "60a2114f",
   "metadata": {},
   "outputs": [],
   "source": [
    "players = df.set_index('Player')"
   ]
  },
  {
   "cell_type": "code",
   "execution_count": 17,
   "id": "7c3204de",
   "metadata": {},
   "outputs": [
    {
     "data": {
      "text/html": [
       "<div>\n",
       "<style scoped>\n",
       "    .dataframe tbody tr th:only-of-type {\n",
       "        vertical-align: middle;\n",
       "    }\n",
       "\n",
       "    .dataframe tbody tr th {\n",
       "        vertical-align: top;\n",
       "    }\n",
       "\n",
       "    .dataframe thead th {\n",
       "        text-align: right;\n",
       "    }\n",
       "</style>\n",
       "<table border=\"1\" class=\"dataframe\">\n",
       "  <thead>\n",
       "    <tr style=\"text-align: right;\">\n",
       "      <th></th>\n",
       "      <th>Country</th>\n",
       "      <th>Club</th>\n",
       "      <th>Champion</th>\n",
       "      <th>Height</th>\n",
       "      <th>Goals</th>\n",
       "    </tr>\n",
       "    <tr>\n",
       "      <th>Player</th>\n",
       "      <th></th>\n",
       "      <th></th>\n",
       "      <th></th>\n",
       "      <th></th>\n",
       "      <th></th>\n",
       "    </tr>\n",
       "  </thead>\n",
       "  <tbody>\n",
       "    <tr>\n",
       "      <th>a</th>\n",
       "      <td>p</td>\n",
       "      <td>z</td>\n",
       "      <td>True</td>\n",
       "      <td>1.2</td>\n",
       "      <td>122</td>\n",
       "    </tr>\n",
       "    <tr>\n",
       "      <th>b</th>\n",
       "      <td>q</td>\n",
       "      <td>y</td>\n",
       "      <td>False</td>\n",
       "      <td>1.3</td>\n",
       "      <td>99</td>\n",
       "    </tr>\n",
       "    <tr>\n",
       "      <th>c</th>\n",
       "      <td>r</td>\n",
       "      <td>x</td>\n",
       "      <td>True</td>\n",
       "      <td>1.4</td>\n",
       "      <td>123</td>\n",
       "    </tr>\n",
       "    <tr>\n",
       "      <th>d</th>\n",
       "      <td>s</td>\n",
       "      <td>w</td>\n",
       "      <td>False</td>\n",
       "      <td>1.5</td>\n",
       "      <td>334</td>\n",
       "    </tr>\n",
       "    <tr>\n",
       "      <th>e</th>\n",
       "      <td>t</td>\n",
       "      <td>v</td>\n",
       "      <td>True</td>\n",
       "      <td>1.0</td>\n",
       "      <td>222</td>\n",
       "    </tr>\n",
       "  </tbody>\n",
       "</table>\n",
       "</div>"
      ],
      "text/plain": [
       "       Country Club  Champion  Height  Goals\n",
       "Player                                      \n",
       "a            p    z      True     1.2    122\n",
       "b            q    y     False     1.3     99\n",
       "c            r    x      True     1.4    123\n",
       "d            s    w     False     1.5    334\n",
       "e            t    v      True     1.0    222"
      ]
     },
     "execution_count": 17,
     "metadata": {},
     "output_type": "execute_result"
    }
   ],
   "source": [
    "players"
   ]
  },
  {
   "cell_type": "code",
   "execution_count": 18,
   "id": "af198f55",
   "metadata": {},
   "outputs": [
    {
     "data": {
      "text/plain": [
       "[('a', 'p', 'z', True, 1.2, 122),\n",
       " ('b', 'q', 'y', False, 1.3, 99),\n",
       " ('c', 'r', 'x', True, 1.4, 123),\n",
       " ('d', 's', 'w', False, 1.5, 334),\n",
       " ('e', 't', 'v', True, 1, 222)]"
      ]
     },
     "execution_count": 18,
     "metadata": {},
     "output_type": "execute_result"
    }
   ],
   "source": [
    "list(zip(player,nationality,club,world_champion,height,goals))"
   ]
  },
  {
   "cell_type": "code",
   "execution_count": 19,
   "id": "96ec356d",
   "metadata": {},
   "outputs": [],
   "source": [
    "zipped = list(zip(player,nationality,club,world_champion,height,goals))"
   ]
  },
  {
   "cell_type": "code",
   "execution_count": 22,
   "id": "923b5751",
   "metadata": {},
   "outputs": [],
   "source": [
    "a,b,c,d,e=zipped"
   ]
  },
  {
   "cell_type": "code",
   "execution_count": 23,
   "id": "0a5e7c67",
   "metadata": {},
   "outputs": [
    {
     "data": {
      "text/plain": [
       "('a', 'p', 'z', True, 1.2, 122)"
      ]
     },
     "execution_count": 23,
     "metadata": {},
     "output_type": "execute_result"
    }
   ],
   "source": [
    "a"
   ]
  },
  {
   "cell_type": "code",
   "execution_count": 24,
   "id": "8dd90053",
   "metadata": {},
   "outputs": [],
   "source": [
    "players.reset_index(inplace=True)"
   ]
  },
  {
   "cell_type": "code",
   "execution_count": 25,
   "id": "799b900d",
   "metadata": {},
   "outputs": [
    {
     "data": {
      "text/html": [
       "<div>\n",
       "<style scoped>\n",
       "    .dataframe tbody tr th:only-of-type {\n",
       "        vertical-align: middle;\n",
       "    }\n",
       "\n",
       "    .dataframe tbody tr th {\n",
       "        vertical-align: top;\n",
       "    }\n",
       "\n",
       "    .dataframe thead th {\n",
       "        text-align: right;\n",
       "    }\n",
       "</style>\n",
       "<table border=\"1\" class=\"dataframe\">\n",
       "  <thead>\n",
       "    <tr style=\"text-align: right;\">\n",
       "      <th></th>\n",
       "      <th>Player</th>\n",
       "      <th>Country</th>\n",
       "      <th>Club</th>\n",
       "      <th>Champion</th>\n",
       "      <th>Height</th>\n",
       "      <th>Goals</th>\n",
       "    </tr>\n",
       "  </thead>\n",
       "  <tbody>\n",
       "    <tr>\n",
       "      <th>0</th>\n",
       "      <td>a</td>\n",
       "      <td>p</td>\n",
       "      <td>z</td>\n",
       "      <td>True</td>\n",
       "      <td>1.2</td>\n",
       "      <td>122</td>\n",
       "    </tr>\n",
       "    <tr>\n",
       "      <th>1</th>\n",
       "      <td>b</td>\n",
       "      <td>q</td>\n",
       "      <td>y</td>\n",
       "      <td>False</td>\n",
       "      <td>1.3</td>\n",
       "      <td>99</td>\n",
       "    </tr>\n",
       "    <tr>\n",
       "      <th>2</th>\n",
       "      <td>c</td>\n",
       "      <td>r</td>\n",
       "      <td>x</td>\n",
       "      <td>True</td>\n",
       "      <td>1.4</td>\n",
       "      <td>123</td>\n",
       "    </tr>\n",
       "    <tr>\n",
       "      <th>3</th>\n",
       "      <td>d</td>\n",
       "      <td>s</td>\n",
       "      <td>w</td>\n",
       "      <td>False</td>\n",
       "      <td>1.5</td>\n",
       "      <td>334</td>\n",
       "    </tr>\n",
       "    <tr>\n",
       "      <th>4</th>\n",
       "      <td>e</td>\n",
       "      <td>t</td>\n",
       "      <td>v</td>\n",
       "      <td>True</td>\n",
       "      <td>1.0</td>\n",
       "      <td>222</td>\n",
       "    </tr>\n",
       "  </tbody>\n",
       "</table>\n",
       "</div>"
      ],
      "text/plain": [
       "  Player Country Club  Champion  Height  Goals\n",
       "0      a       p    z      True     1.2    122\n",
       "1      b       q    y     False     1.3     99\n",
       "2      c       r    x      True     1.4    123\n",
       "3      d       s    w     False     1.5    334\n",
       "4      e       t    v      True     1.0    222"
      ]
     },
     "execution_count": 25,
     "metadata": {},
     "output_type": "execute_result"
    }
   ],
   "source": [
    "players"
   ]
  },
  {
   "cell_type": "code",
   "execution_count": 26,
   "id": "97346f1b",
   "metadata": {},
   "outputs": [],
   "source": [
    "players.loc[5,:]=['f','g','h',True,1.9,100]"
   ]
  },
  {
   "cell_type": "code",
   "execution_count": 27,
   "id": "e021aeaf",
   "metadata": {},
   "outputs": [
    {
     "data": {
      "text/html": [
       "<div>\n",
       "<style scoped>\n",
       "    .dataframe tbody tr th:only-of-type {\n",
       "        vertical-align: middle;\n",
       "    }\n",
       "\n",
       "    .dataframe tbody tr th {\n",
       "        vertical-align: top;\n",
       "    }\n",
       "\n",
       "    .dataframe thead th {\n",
       "        text-align: right;\n",
       "    }\n",
       "</style>\n",
       "<table border=\"1\" class=\"dataframe\">\n",
       "  <thead>\n",
       "    <tr style=\"text-align: right;\">\n",
       "      <th></th>\n",
       "      <th>Player</th>\n",
       "      <th>Country</th>\n",
       "      <th>Club</th>\n",
       "      <th>Champion</th>\n",
       "      <th>Height</th>\n",
       "      <th>Goals</th>\n",
       "    </tr>\n",
       "  </thead>\n",
       "  <tbody>\n",
       "    <tr>\n",
       "      <th>0</th>\n",
       "      <td>a</td>\n",
       "      <td>p</td>\n",
       "      <td>z</td>\n",
       "      <td>True</td>\n",
       "      <td>1.2</td>\n",
       "      <td>122.0</td>\n",
       "    </tr>\n",
       "    <tr>\n",
       "      <th>1</th>\n",
       "      <td>b</td>\n",
       "      <td>q</td>\n",
       "      <td>y</td>\n",
       "      <td>False</td>\n",
       "      <td>1.3</td>\n",
       "      <td>99.0</td>\n",
       "    </tr>\n",
       "    <tr>\n",
       "      <th>2</th>\n",
       "      <td>c</td>\n",
       "      <td>r</td>\n",
       "      <td>x</td>\n",
       "      <td>True</td>\n",
       "      <td>1.4</td>\n",
       "      <td>123.0</td>\n",
       "    </tr>\n",
       "    <tr>\n",
       "      <th>3</th>\n",
       "      <td>d</td>\n",
       "      <td>s</td>\n",
       "      <td>w</td>\n",
       "      <td>False</td>\n",
       "      <td>1.5</td>\n",
       "      <td>334.0</td>\n",
       "    </tr>\n",
       "    <tr>\n",
       "      <th>4</th>\n",
       "      <td>e</td>\n",
       "      <td>t</td>\n",
       "      <td>v</td>\n",
       "      <td>True</td>\n",
       "      <td>1.0</td>\n",
       "      <td>222.0</td>\n",
       "    </tr>\n",
       "    <tr>\n",
       "      <th>5</th>\n",
       "      <td>f</td>\n",
       "      <td>g</td>\n",
       "      <td>h</td>\n",
       "      <td>True</td>\n",
       "      <td>1.9</td>\n",
       "      <td>100.0</td>\n",
       "    </tr>\n",
       "  </tbody>\n",
       "</table>\n",
       "</div>"
      ],
      "text/plain": [
       "  Player Country Club Champion  Height  Goals\n",
       "0      a       p    z     True     1.2  122.0\n",
       "1      b       q    y    False     1.3   99.0\n",
       "2      c       r    x     True     1.4  123.0\n",
       "3      d       s    w    False     1.5  334.0\n",
       "4      e       t    v     True     1.0  222.0\n",
       "5      f       g    h     True     1.9  100.0"
      ]
     },
     "execution_count": 27,
     "metadata": {},
     "output_type": "execute_result"
    }
   ],
   "source": [
    "players"
   ]
  },
  {
   "cell_type": "code",
   "execution_count": 28,
   "id": "96735072",
   "metadata": {},
   "outputs": [
    {
     "ename": "AttributeError",
     "evalue": "'list' object has no attribute 'columns'",
     "output_type": "error",
     "traceback": [
      "\u001b[1;31m---------------------------------------------------------------------------\u001b[0m",
      "\u001b[1;31mAttributeError\u001b[0m                            Traceback (most recent call last)",
      "Input \u001b[1;32mIn [28]\u001b[0m, in \u001b[0;36m<cell line: 1>\u001b[1;34m()\u001b[0m\n\u001b[1;32m----> 1\u001b[0m new \u001b[38;5;241m=\u001b[39m pd\u001b[38;5;241m.\u001b[39mDataFrame(data \u001b[38;5;241m=\u001b[39m[[\u001b[38;5;124m'\u001b[39m\u001b[38;5;124mf\u001b[39m\u001b[38;5;124m'\u001b[39m,\u001b[38;5;124m'\u001b[39m\u001b[38;5;124mg\u001b[39m\u001b[38;5;124m'\u001b[39m,\u001b[38;5;124m'\u001b[39m\u001b[38;5;124mh\u001b[39m\u001b[38;5;124m'\u001b[39m,\u001b[38;5;28;01mTrue\u001b[39;00m,\u001b[38;5;241m1.9\u001b[39m,\u001b[38;5;241m100\u001b[39m],[\u001b[38;5;124m'\u001b[39m\u001b[38;5;124mf\u001b[39m\u001b[38;5;124m'\u001b[39m,\u001b[38;5;124m'\u001b[39m\u001b[38;5;124mg\u001b[39m\u001b[38;5;124m'\u001b[39m,\u001b[38;5;124m'\u001b[39m\u001b[38;5;124mh\u001b[39m\u001b[38;5;124m'\u001b[39m,\u001b[38;5;28;01mTrue\u001b[39;00m,\u001b[38;5;241m1.9\u001b[39m,\u001b[38;5;241m100\u001b[39m]],columns \u001b[38;5;241m=\u001b[39m \u001b[43mplayer\u001b[49m\u001b[38;5;241;43m.\u001b[39;49m\u001b[43mcolumns\u001b[49m)\n",
      "\u001b[1;31mAttributeError\u001b[0m: 'list' object has no attribute 'columns'"
     ]
    }
   ],
   "source": [
    "new = pd.DataFrame(data =[['f','g','h',True,1.9,100],['f','g','h',True,1.9,100]],columns = player.columns)"
   ]
  },
  {
   "cell_type": "code",
   "execution_count": null,
   "id": "32a3feb4",
   "metadata": {},
   "outputs": [],
   "source": []
  }
 ],
 "metadata": {
  "kernelspec": {
   "display_name": "Python 3 (ipykernel)",
   "language": "python",
   "name": "python3"
  },
  "language_info": {
   "codemirror_mode": {
    "name": "ipython",
    "version": 3
   },
   "file_extension": ".py",
   "mimetype": "text/x-python",
   "name": "python",
   "nbconvert_exporter": "python",
   "pygments_lexer": "ipython3",
   "version": "3.9.12"
  }
 },
 "nbformat": 4,
 "nbformat_minor": 5
}
